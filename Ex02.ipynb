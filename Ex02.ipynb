{
 "cells": [
  {
   "cell_type": "code",
   "execution_count": 34,
   "metadata": {
    "collapsed": false
   },
   "outputs": [],
   "source": [
    "import pandas as pd\n",
    "import numpy as np\n",
    "import math"
   ]
  },
  {
   "cell_type": "code",
   "execution_count": 35,
   "metadata": {
    "collapsed": true
   },
   "outputs": [],
   "source": [
    "## Read data from source"
   ]
  },
  {
   "cell_type": "code",
   "execution_count": 36,
   "metadata": {
    "collapsed": false
   },
   "outputs": [
    {
     "data": {
      "text/html": [
       "<div>\n",
       "<table border=\"1\" class=\"dataframe\">\n",
       "  <thead>\n",
       "    <tr style=\"text-align: right;\">\n",
       "      <th></th>\n",
       "      <th>0</th>\n",
       "      <th>1</th>\n",
       "      <th>2</th>\n",
       "      <th>3</th>\n",
       "      <th>4</th>\n",
       "      <th>5</th>\n",
       "      <th>6</th>\n",
       "      <th>7</th>\n",
       "      <th>8</th>\n",
       "      <th>9</th>\n",
       "      <th>...</th>\n",
       "      <th>21</th>\n",
       "      <th>22</th>\n",
       "      <th>23</th>\n",
       "      <th>24</th>\n",
       "      <th>25</th>\n",
       "      <th>26</th>\n",
       "      <th>27</th>\n",
       "      <th>28</th>\n",
       "      <th>29</th>\n",
       "      <th>30</th>\n",
       "    </tr>\n",
       "  </thead>\n",
       "  <tbody>\n",
       "    <tr>\n",
       "      <th>0</th>\n",
       "      <td>M</td>\n",
       "      <td>17.99</td>\n",
       "      <td>10.38</td>\n",
       "      <td>122.80</td>\n",
       "      <td>1001.0</td>\n",
       "      <td>0.11840</td>\n",
       "      <td>0.27760</td>\n",
       "      <td>0.3001</td>\n",
       "      <td>0.14710</td>\n",
       "      <td>0.2419</td>\n",
       "      <td>...</td>\n",
       "      <td>25.38</td>\n",
       "      <td>17.33</td>\n",
       "      <td>184.60</td>\n",
       "      <td>2019.0</td>\n",
       "      <td>0.1622</td>\n",
       "      <td>0.6656</td>\n",
       "      <td>0.7119</td>\n",
       "      <td>0.2654</td>\n",
       "      <td>0.4601</td>\n",
       "      <td>0.11890</td>\n",
       "    </tr>\n",
       "    <tr>\n",
       "      <th>1</th>\n",
       "      <td>M</td>\n",
       "      <td>20.57</td>\n",
       "      <td>17.77</td>\n",
       "      <td>132.90</td>\n",
       "      <td>1326.0</td>\n",
       "      <td>0.08474</td>\n",
       "      <td>0.07864</td>\n",
       "      <td>0.0869</td>\n",
       "      <td>0.07017</td>\n",
       "      <td>0.1812</td>\n",
       "      <td>...</td>\n",
       "      <td>24.99</td>\n",
       "      <td>23.41</td>\n",
       "      <td>158.80</td>\n",
       "      <td>1956.0</td>\n",
       "      <td>0.1238</td>\n",
       "      <td>0.1866</td>\n",
       "      <td>0.2416</td>\n",
       "      <td>0.1860</td>\n",
       "      <td>0.2750</td>\n",
       "      <td>0.08902</td>\n",
       "    </tr>\n",
       "    <tr>\n",
       "      <th>2</th>\n",
       "      <td>M</td>\n",
       "      <td>19.69</td>\n",
       "      <td>21.25</td>\n",
       "      <td>130.00</td>\n",
       "      <td>1203.0</td>\n",
       "      <td>0.10960</td>\n",
       "      <td>0.15990</td>\n",
       "      <td>0.1974</td>\n",
       "      <td>0.12790</td>\n",
       "      <td>0.2069</td>\n",
       "      <td>...</td>\n",
       "      <td>23.57</td>\n",
       "      <td>25.53</td>\n",
       "      <td>152.50</td>\n",
       "      <td>1709.0</td>\n",
       "      <td>0.1444</td>\n",
       "      <td>0.4245</td>\n",
       "      <td>0.4504</td>\n",
       "      <td>0.2430</td>\n",
       "      <td>0.3613</td>\n",
       "      <td>0.08758</td>\n",
       "    </tr>\n",
       "    <tr>\n",
       "      <th>3</th>\n",
       "      <td>M</td>\n",
       "      <td>11.42</td>\n",
       "      <td>20.38</td>\n",
       "      <td>77.58</td>\n",
       "      <td>386.1</td>\n",
       "      <td>0.14250</td>\n",
       "      <td>0.28390</td>\n",
       "      <td>0.2414</td>\n",
       "      <td>0.10520</td>\n",
       "      <td>0.2597</td>\n",
       "      <td>...</td>\n",
       "      <td>14.91</td>\n",
       "      <td>26.50</td>\n",
       "      <td>98.87</td>\n",
       "      <td>567.7</td>\n",
       "      <td>0.2098</td>\n",
       "      <td>0.8663</td>\n",
       "      <td>0.6869</td>\n",
       "      <td>0.2575</td>\n",
       "      <td>0.6638</td>\n",
       "      <td>0.17300</td>\n",
       "    </tr>\n",
       "    <tr>\n",
       "      <th>4</th>\n",
       "      <td>M</td>\n",
       "      <td>20.29</td>\n",
       "      <td>14.34</td>\n",
       "      <td>135.10</td>\n",
       "      <td>1297.0</td>\n",
       "      <td>0.10030</td>\n",
       "      <td>0.13280</td>\n",
       "      <td>0.1980</td>\n",
       "      <td>0.10430</td>\n",
       "      <td>0.1809</td>\n",
       "      <td>...</td>\n",
       "      <td>22.54</td>\n",
       "      <td>16.67</td>\n",
       "      <td>152.20</td>\n",
       "      <td>1575.0</td>\n",
       "      <td>0.1374</td>\n",
       "      <td>0.2050</td>\n",
       "      <td>0.4000</td>\n",
       "      <td>0.1625</td>\n",
       "      <td>0.2364</td>\n",
       "      <td>0.07678</td>\n",
       "    </tr>\n",
       "  </tbody>\n",
       "</table>\n",
       "<p>5 rows × 31 columns</p>\n",
       "</div>"
      ],
      "text/plain": [
       "  0      1      2       3       4        5        6       7        8       9   \\\n",
       "0  M  17.99  10.38  122.80  1001.0  0.11840  0.27760  0.3001  0.14710  0.2419   \n",
       "1  M  20.57  17.77  132.90  1326.0  0.08474  0.07864  0.0869  0.07017  0.1812   \n",
       "2  M  19.69  21.25  130.00  1203.0  0.10960  0.15990  0.1974  0.12790  0.2069   \n",
       "3  M  11.42  20.38   77.58   386.1  0.14250  0.28390  0.2414  0.10520  0.2597   \n",
       "4  M  20.29  14.34  135.10  1297.0  0.10030  0.13280  0.1980  0.10430  0.1809   \n",
       "\n",
       "    ...        21     22      23      24      25      26      27      28  \\\n",
       "0   ...     25.38  17.33  184.60  2019.0  0.1622  0.6656  0.7119  0.2654   \n",
       "1   ...     24.99  23.41  158.80  1956.0  0.1238  0.1866  0.2416  0.1860   \n",
       "2   ...     23.57  25.53  152.50  1709.0  0.1444  0.4245  0.4504  0.2430   \n",
       "3   ...     14.91  26.50   98.87   567.7  0.2098  0.8663  0.6869  0.2575   \n",
       "4   ...     22.54  16.67  152.20  1575.0  0.1374  0.2050  0.4000  0.1625   \n",
       "\n",
       "       29       30  \n",
       "0  0.4601  0.11890  \n",
       "1  0.2750  0.08902  \n",
       "2  0.3613  0.08758  \n",
       "3  0.6638  0.17300  \n",
       "4  0.2364  0.07678  \n",
       "\n",
       "[5 rows x 31 columns]"
      ]
     },
     "execution_count": 36,
     "metadata": {},
     "output_type": "execute_result"
    }
   ],
   "source": [
    "file = 'data.xlsx'\n",
    "df = pd.read_excel(file, header=None)\n",
    "nr_rows = df.shape[0]\n",
    "nr_cols = df.shape[1]\n",
    "df.head()\n",
    "\n"
   ]
  },
  {
   "cell_type": "code",
   "execution_count": 37,
   "metadata": {
    "collapsed": false
   },
   "outputs": [
    {
     "data": {
      "text/html": [
       "<div>\n",
       "<table border=\"1\" class=\"dataframe\">\n",
       "  <thead>\n",
       "    <tr style=\"text-align: right;\">\n",
       "      <th></th>\n",
       "      <th>0</th>\n",
       "      <th>1</th>\n",
       "      <th>2</th>\n",
       "      <th>3</th>\n",
       "      <th>4</th>\n",
       "      <th>5</th>\n",
       "      <th>6</th>\n",
       "      <th>7</th>\n",
       "      <th>8</th>\n",
       "      <th>9</th>\n",
       "      <th>...</th>\n",
       "      <th>21</th>\n",
       "      <th>22</th>\n",
       "      <th>23</th>\n",
       "      <th>24</th>\n",
       "      <th>25</th>\n",
       "      <th>26</th>\n",
       "      <th>27</th>\n",
       "      <th>28</th>\n",
       "      <th>29</th>\n",
       "      <th>30</th>\n",
       "    </tr>\n",
       "  </thead>\n",
       "  <tbody>\n",
       "    <tr>\n",
       "      <th>0</th>\n",
       "      <td>1</td>\n",
       "      <td>-0.521037</td>\n",
       "      <td>-0.022658</td>\n",
       "      <td>-0.545989</td>\n",
       "      <td>-0.363733</td>\n",
       "      <td>-0.593753</td>\n",
       "      <td>-0.792037</td>\n",
       "      <td>-0.703140</td>\n",
       "      <td>-0.731113</td>\n",
       "      <td>-0.686364</td>\n",
       "      <td>...</td>\n",
       "      <td>-0.620776</td>\n",
       "      <td>-0.141525</td>\n",
       "      <td>-0.668310</td>\n",
       "      <td>-0.450698</td>\n",
       "      <td>-0.601136</td>\n",
       "      <td>-0.619292</td>\n",
       "      <td>-0.568610</td>\n",
       "      <td>-0.912027</td>\n",
       "      <td>-0.598462</td>\n",
       "      <td>-0.418864</td>\n",
       "    </tr>\n",
       "    <tr>\n",
       "      <th>1</th>\n",
       "      <td>1</td>\n",
       "      <td>-0.643144</td>\n",
       "      <td>-0.272574</td>\n",
       "      <td>-0.615783</td>\n",
       "      <td>-0.501591</td>\n",
       "      <td>-0.289880</td>\n",
       "      <td>-0.181768</td>\n",
       "      <td>-0.203608</td>\n",
       "      <td>-0.348757</td>\n",
       "      <td>-0.379798</td>\n",
       "      <td>...</td>\n",
       "      <td>-0.606901</td>\n",
       "      <td>-0.303571</td>\n",
       "      <td>-0.539818</td>\n",
       "      <td>-0.435214</td>\n",
       "      <td>-0.347553</td>\n",
       "      <td>-0.154563</td>\n",
       "      <td>-0.192971</td>\n",
       "      <td>-0.639175</td>\n",
       "      <td>-0.233590</td>\n",
       "      <td>-0.222878</td>\n",
       "    </tr>\n",
       "    <tr>\n",
       "      <th>2</th>\n",
       "      <td>1</td>\n",
       "      <td>-0.601496</td>\n",
       "      <td>-0.390260</td>\n",
       "      <td>-0.595743</td>\n",
       "      <td>-0.449417</td>\n",
       "      <td>-0.514309</td>\n",
       "      <td>-0.431017</td>\n",
       "      <td>-0.462512</td>\n",
       "      <td>-0.635686</td>\n",
       "      <td>-0.509596</td>\n",
       "      <td>...</td>\n",
       "      <td>-0.556386</td>\n",
       "      <td>-0.360075</td>\n",
       "      <td>-0.508442</td>\n",
       "      <td>-0.374508</td>\n",
       "      <td>-0.483590</td>\n",
       "      <td>-0.385375</td>\n",
       "      <td>-0.359744</td>\n",
       "      <td>-0.835052</td>\n",
       "      <td>-0.403706</td>\n",
       "      <td>-0.213433</td>\n",
       "    </tr>\n",
       "    <tr>\n",
       "      <th>3</th>\n",
       "      <td>1</td>\n",
       "      <td>-0.210090</td>\n",
       "      <td>-0.360839</td>\n",
       "      <td>-0.233501</td>\n",
       "      <td>-0.102906</td>\n",
       "      <td>-0.811321</td>\n",
       "      <td>-0.811361</td>\n",
       "      <td>-0.565604</td>\n",
       "      <td>-0.522863</td>\n",
       "      <td>-0.776263</td>\n",
       "      <td>...</td>\n",
       "      <td>-0.248310</td>\n",
       "      <td>-0.385928</td>\n",
       "      <td>-0.241347</td>\n",
       "      <td>-0.094008</td>\n",
       "      <td>-0.915472</td>\n",
       "      <td>-0.814012</td>\n",
       "      <td>-0.548642</td>\n",
       "      <td>-0.884880</td>\n",
       "      <td>-1.000000</td>\n",
       "      <td>-0.773711</td>\n",
       "    </tr>\n",
       "    <tr>\n",
       "      <th>4</th>\n",
       "      <td>1</td>\n",
       "      <td>-0.629893</td>\n",
       "      <td>-0.156578</td>\n",
       "      <td>-0.630986</td>\n",
       "      <td>-0.489290</td>\n",
       "      <td>-0.430351</td>\n",
       "      <td>-0.347893</td>\n",
       "      <td>-0.463918</td>\n",
       "      <td>-0.518390</td>\n",
       "      <td>-0.378283</td>\n",
       "      <td>...</td>\n",
       "      <td>-0.519744</td>\n",
       "      <td>-0.123934</td>\n",
       "      <td>-0.506948</td>\n",
       "      <td>-0.341575</td>\n",
       "      <td>-0.437364</td>\n",
       "      <td>-0.172415</td>\n",
       "      <td>-0.319489</td>\n",
       "      <td>-0.558419</td>\n",
       "      <td>-0.157500</td>\n",
       "      <td>-0.142595</td>\n",
       "    </tr>\n",
       "  </tbody>\n",
       "</table>\n",
       "<p>5 rows × 31 columns</p>\n",
       "</div>"
      ],
      "text/plain": [
       "   0         1         2         3         4         5         6         7   \\\n",
       "0   1 -0.521037 -0.022658 -0.545989 -0.363733 -0.593753 -0.792037 -0.703140   \n",
       "1   1 -0.643144 -0.272574 -0.615783 -0.501591 -0.289880 -0.181768 -0.203608   \n",
       "2   1 -0.601496 -0.390260 -0.595743 -0.449417 -0.514309 -0.431017 -0.462512   \n",
       "3   1 -0.210090 -0.360839 -0.233501 -0.102906 -0.811321 -0.811361 -0.565604   \n",
       "4   1 -0.629893 -0.156578 -0.630986 -0.489290 -0.430351 -0.347893 -0.463918   \n",
       "\n",
       "         8         9     ...           21        22        23        24  \\\n",
       "0 -0.731113 -0.686364    ...    -0.620776 -0.141525 -0.668310 -0.450698   \n",
       "1 -0.348757 -0.379798    ...    -0.606901 -0.303571 -0.539818 -0.435214   \n",
       "2 -0.635686 -0.509596    ...    -0.556386 -0.360075 -0.508442 -0.374508   \n",
       "3 -0.522863 -0.776263    ...    -0.248310 -0.385928 -0.241347 -0.094008   \n",
       "4 -0.518390 -0.378283    ...    -0.519744 -0.123934 -0.506948 -0.341575   \n",
       "\n",
       "         25        26        27        28        29        30  \n",
       "0 -0.601136 -0.619292 -0.568610 -0.912027 -0.598462 -0.418864  \n",
       "1 -0.347553 -0.154563 -0.192971 -0.639175 -0.233590 -0.222878  \n",
       "2 -0.483590 -0.385375 -0.359744 -0.835052 -0.403706 -0.213433  \n",
       "3 -0.915472 -0.814012 -0.548642 -0.884880 -1.000000 -0.773711  \n",
       "4 -0.437364 -0.172415 -0.319489 -0.558419 -0.157500 -0.142595  \n",
       "\n",
       "[5 rows x 31 columns]"
      ]
     },
     "execution_count": 37,
     "metadata": {},
     "output_type": "execute_result"
    }
   ],
   "source": [
    "## Convert Y feature to number\n",
    "def numberize(value): \n",
    "    return 1 if value == 'M' else 0\n",
    "\n",
    "df[0] = df[0].apply(lambda x: numberize(x))\n",
    "\n",
    "    \n",
    "## Normalize data\n",
    "def norm(vector):\n",
    "    min = np.amin(vector)\n",
    "    max = np.amax(vector)\n",
    "    return (vector - min) / (min - max )\n",
    "\n",
    "for i in range(nr_cols):\n",
    "    df[:][i] = norm(df[:][i])\n",
    "    \n",
    "## Predict 0 or 1 based on [0,1] range    \n",
    "def predict_from_value(val):\n",
    "    return 1 if val >= 0.5 else 0\n",
    "\n",
    "    \n",
    "df.head()    "
   ]
  },
  {
   "cell_type": "code",
   "execution_count": 38,
   "metadata": {
    "collapsed": false
   },
   "outputs": [],
   "source": [
    "## Split X and Y\n",
    "X = df.ix[:,1:]\n",
    "Y = df.ix[:,0]\n"
   ]
  },
  {
   "cell_type": "code",
   "execution_count": 39,
   "metadata": {
    "collapsed": false
   },
   "outputs": [
    {
     "data": {
      "text/html": [
       "<div>\n",
       "<table border=\"1\" class=\"dataframe\">\n",
       "  <thead>\n",
       "    <tr style=\"text-align: right;\">\n",
       "      <th></th>\n",
       "      <th>0</th>\n",
       "      <th>1</th>\n",
       "      <th>2</th>\n",
       "      <th>3</th>\n",
       "      <th>4</th>\n",
       "      <th>5</th>\n",
       "      <th>6</th>\n",
       "      <th>7</th>\n",
       "      <th>8</th>\n",
       "      <th>9</th>\n",
       "      <th>...</th>\n",
       "      <th>21</th>\n",
       "      <th>22</th>\n",
       "      <th>23</th>\n",
       "      <th>24</th>\n",
       "      <th>25</th>\n",
       "      <th>26</th>\n",
       "      <th>27</th>\n",
       "      <th>28</th>\n",
       "      <th>29</th>\n",
       "      <th>30</th>\n",
       "    </tr>\n",
       "  </thead>\n",
       "  <tbody>\n",
       "    <tr>\n",
       "      <th>0</th>\n",
       "      <td>1</td>\n",
       "      <td>-0.521037</td>\n",
       "      <td>-0.022658</td>\n",
       "      <td>-0.545989</td>\n",
       "      <td>-0.363733</td>\n",
       "      <td>-0.593753</td>\n",
       "      <td>-0.792037</td>\n",
       "      <td>-0.703140</td>\n",
       "      <td>-0.731113</td>\n",
       "      <td>-0.686364</td>\n",
       "      <td>...</td>\n",
       "      <td>-0.620776</td>\n",
       "      <td>-0.141525</td>\n",
       "      <td>-0.668310</td>\n",
       "      <td>-0.450698</td>\n",
       "      <td>-0.601136</td>\n",
       "      <td>-0.619292</td>\n",
       "      <td>-0.568610</td>\n",
       "      <td>-0.912027</td>\n",
       "      <td>-0.598462</td>\n",
       "      <td>-0.418864</td>\n",
       "    </tr>\n",
       "    <tr>\n",
       "      <th>1</th>\n",
       "      <td>1</td>\n",
       "      <td>-0.643144</td>\n",
       "      <td>-0.272574</td>\n",
       "      <td>-0.615783</td>\n",
       "      <td>-0.501591</td>\n",
       "      <td>-0.289880</td>\n",
       "      <td>-0.181768</td>\n",
       "      <td>-0.203608</td>\n",
       "      <td>-0.348757</td>\n",
       "      <td>-0.379798</td>\n",
       "      <td>...</td>\n",
       "      <td>-0.606901</td>\n",
       "      <td>-0.303571</td>\n",
       "      <td>-0.539818</td>\n",
       "      <td>-0.435214</td>\n",
       "      <td>-0.347553</td>\n",
       "      <td>-0.154563</td>\n",
       "      <td>-0.192971</td>\n",
       "      <td>-0.639175</td>\n",
       "      <td>-0.233590</td>\n",
       "      <td>-0.222878</td>\n",
       "    </tr>\n",
       "    <tr>\n",
       "      <th>2</th>\n",
       "      <td>1</td>\n",
       "      <td>-0.601496</td>\n",
       "      <td>-0.390260</td>\n",
       "      <td>-0.595743</td>\n",
       "      <td>-0.449417</td>\n",
       "      <td>-0.514309</td>\n",
       "      <td>-0.431017</td>\n",
       "      <td>-0.462512</td>\n",
       "      <td>-0.635686</td>\n",
       "      <td>-0.509596</td>\n",
       "      <td>...</td>\n",
       "      <td>-0.556386</td>\n",
       "      <td>-0.360075</td>\n",
       "      <td>-0.508442</td>\n",
       "      <td>-0.374508</td>\n",
       "      <td>-0.483590</td>\n",
       "      <td>-0.385375</td>\n",
       "      <td>-0.359744</td>\n",
       "      <td>-0.835052</td>\n",
       "      <td>-0.403706</td>\n",
       "      <td>-0.213433</td>\n",
       "    </tr>\n",
       "    <tr>\n",
       "      <th>3</th>\n",
       "      <td>1</td>\n",
       "      <td>-0.210090</td>\n",
       "      <td>-0.360839</td>\n",
       "      <td>-0.233501</td>\n",
       "      <td>-0.102906</td>\n",
       "      <td>-0.811321</td>\n",
       "      <td>-0.811361</td>\n",
       "      <td>-0.565604</td>\n",
       "      <td>-0.522863</td>\n",
       "      <td>-0.776263</td>\n",
       "      <td>...</td>\n",
       "      <td>-0.248310</td>\n",
       "      <td>-0.385928</td>\n",
       "      <td>-0.241347</td>\n",
       "      <td>-0.094008</td>\n",
       "      <td>-0.915472</td>\n",
       "      <td>-0.814012</td>\n",
       "      <td>-0.548642</td>\n",
       "      <td>-0.884880</td>\n",
       "      <td>-1.000000</td>\n",
       "      <td>-0.773711</td>\n",
       "    </tr>\n",
       "    <tr>\n",
       "      <th>4</th>\n",
       "      <td>1</td>\n",
       "      <td>-0.629893</td>\n",
       "      <td>-0.156578</td>\n",
       "      <td>-0.630986</td>\n",
       "      <td>-0.489290</td>\n",
       "      <td>-0.430351</td>\n",
       "      <td>-0.347893</td>\n",
       "      <td>-0.463918</td>\n",
       "      <td>-0.518390</td>\n",
       "      <td>-0.378283</td>\n",
       "      <td>...</td>\n",
       "      <td>-0.519744</td>\n",
       "      <td>-0.123934</td>\n",
       "      <td>-0.506948</td>\n",
       "      <td>-0.341575</td>\n",
       "      <td>-0.437364</td>\n",
       "      <td>-0.172415</td>\n",
       "      <td>-0.319489</td>\n",
       "      <td>-0.558419</td>\n",
       "      <td>-0.157500</td>\n",
       "      <td>-0.142595</td>\n",
       "    </tr>\n",
       "  </tbody>\n",
       "</table>\n",
       "<p>5 rows × 31 columns</p>\n",
       "</div>"
      ],
      "text/plain": [
       "   0         1         2         3         4         5         6         7   \\\n",
       "0   1 -0.521037 -0.022658 -0.545989 -0.363733 -0.593753 -0.792037 -0.703140   \n",
       "1   1 -0.643144 -0.272574 -0.615783 -0.501591 -0.289880 -0.181768 -0.203608   \n",
       "2   1 -0.601496 -0.390260 -0.595743 -0.449417 -0.514309 -0.431017 -0.462512   \n",
       "3   1 -0.210090 -0.360839 -0.233501 -0.102906 -0.811321 -0.811361 -0.565604   \n",
       "4   1 -0.629893 -0.156578 -0.630986 -0.489290 -0.430351 -0.347893 -0.463918   \n",
       "\n",
       "         8         9     ...           21        22        23        24  \\\n",
       "0 -0.731113 -0.686364    ...    -0.620776 -0.141525 -0.668310 -0.450698   \n",
       "1 -0.348757 -0.379798    ...    -0.606901 -0.303571 -0.539818 -0.435214   \n",
       "2 -0.635686 -0.509596    ...    -0.556386 -0.360075 -0.508442 -0.374508   \n",
       "3 -0.522863 -0.776263    ...    -0.248310 -0.385928 -0.241347 -0.094008   \n",
       "4 -0.518390 -0.378283    ...    -0.519744 -0.123934 -0.506948 -0.341575   \n",
       "\n",
       "         25        26        27        28        29        30  \n",
       "0 -0.601136 -0.619292 -0.568610 -0.912027 -0.598462 -0.418864  \n",
       "1 -0.347553 -0.154563 -0.192971 -0.639175 -0.233590 -0.222878  \n",
       "2 -0.483590 -0.385375 -0.359744 -0.835052 -0.403706 -0.213433  \n",
       "3 -0.915472 -0.814012 -0.548642 -0.884880 -1.000000 -0.773711  \n",
       "4 -0.437364 -0.172415 -0.319489 -0.558419 -0.157500 -0.142595  \n",
       "\n",
       "[5 rows x 31 columns]"
      ]
     },
     "execution_count": 39,
     "metadata": {},
     "output_type": "execute_result"
    }
   ],
   "source": [
    "## Add '1' - Feature\n",
    "ones = np.ones(nr_rows, dtype=np.int)\n",
    "X.insert(0, '', ones)\n",
    "X.columns = range(df.shape[1])\n",
    "X.head()\n"
   ]
  },
  {
   "cell_type": "code",
   "execution_count": 40,
   "metadata": {
    "collapsed": true
   },
   "outputs": [],
   "source": [
    "## Prepare training set and testing datasets"
   ]
  },
  {
   "cell_type": "code",
   "execution_count": 41,
   "metadata": {
    "collapsed": false
   },
   "outputs": [],
   "source": [
    "X_train = X.head(300)\n",
    "Y_train = Y.head(300)"
   ]
  },
  {
   "cell_type": "code",
   "execution_count": 42,
   "metadata": {
    "collapsed": false
   },
   "outputs": [],
   "source": [
    "nr_test_rows = nr_rows - 300\n",
    "X_test = X.tail(nr_test_rows)\n",
    "Y_test = Y.tail(nr_test_rows)"
   ]
  },
  {
   "cell_type": "code",
   "execution_count": 43,
   "metadata": {
    "collapsed": true
   },
   "outputs": [],
   "source": [
    "## Define helper methods"
   ]
  },
  {
   "cell_type": "code",
   "execution_count": 44,
   "metadata": {
    "collapsed": false
   },
   "outputs": [],
   "source": [
    "def sig(z):\n",
    "    return 1 / (1 + math.e ** (-1*z))"
   ]
  },
  {
   "cell_type": "code",
   "execution_count": 61,
   "metadata": {
    "collapsed": false
   },
   "outputs": [],
   "source": [
    "%matplotlib inline\n",
    "import time\n",
    "import pylab as pl\n",
    "from IPython import display\n",
    "\n",
    "    \n",
    "\n",
    "def gradient_descent(X, Y, alpha=0.1, max_iterations=100):\n",
    "    predictions = []\n",
    "    Theta = np.zeros(X.shape[1], dtype=np.int)  # Starting Theta\n",
    "    \n",
    "    while (max_iterations > 0):\n",
    "        prediction = sig(np.dot(X,Theta))\n",
    "        Theta = Theta + (alpha * (Y - prediction) * prediction * (1 - prediction)).dot(X)\n",
    "        predictions.append(prediction)\n",
    "        max_iterations -= 1\n",
    "    \n",
    "    return [predictions, Theta]\n",
    "\n",
    "crisp_predictor = lambda x: 1 if x >= 0.5 else 0\n",
    "\n"
   ]
  },
  {
   "cell_type": "code",
   "execution_count": 98,
   "metadata": {
    "collapsed": false
   },
   "outputs": [],
   "source": [
    "# Main Function\n",
    "\n",
    "def accuracy(crisp, Y):\n",
    "    # Subtract predictions from the real values and count the 1's\n",
    "    difference = pd.Series(crisp - Y)\n",
    "    correct_predictions = (difference == 0).sum()\n",
    "    total_predictions = crisp.shape[0]\n",
    "\n",
    "    return (correct_predictions / total_predictions * 100)"
   ]
  },
  {
   "cell_type": "code",
   "execution_count": 75,
   "metadata": {
    "collapsed": false
   },
   "outputs": [],
   "source": [
    "def quality_by_iteration(alpha, max_iterations):\n",
    "    predictions_by_iteration = gradient_descent(X_train, Y_train, alpha, max_iterations)[0]\n",
    "    \n",
    "    \n",
    "    qualities = []\n",
    "    for prediction in predictions_by_iteration:\n",
    "        crisp = pd.Series(prediction).apply(crisp_predictor)\n",
    "        quality = accuracy(crisp, Y_train)\n",
    "        qualities.append(quality)\n",
    "\n",
    "    return qualities    \n",
    "\n",
    "        "
   ]
  },
  {
   "cell_type": "code",
   "execution_count": 76,
   "metadata": {
    "collapsed": false
   },
   "outputs": [],
   "source": [
    "    alpha = 0.03\n",
    "    max_iterations = 1000\n",
    "    \n",
    "qualities = pd.Series(quality_by_iteration(alpha, max_iterations))    "
   ]
  },
  {
   "cell_type": "code",
   "execution_count": 77,
   "metadata": {
    "collapsed": false
   },
   "outputs": [
    {
     "data": {
      "image/png": "[encoded data removed]",
      "text/plain": [
       "<matplotlib.figure.Figure at 0x112fadf28>"
      ]
     },
     "metadata": {},
     "output_type": "display_data"
    },
    {
     "data": {
      "text/plain": [
       "<matplotlib.figure.Figure at 0x112fad390>"
      ]
     },
     "metadata": {},
     "output_type": "display_data"
    }
   ],
   "source": [
    "plt.plot(qualities.index.values, qualities)\n",
    "plt.figure(num=None, figsize=(8, 6), dpi=80, facecolor='w', edgecolor='k')\n",
    "plt.show()"
   ]
  },
  {
   "cell_type": "code",
   "execution_count": 78,
   "metadata": {
    "collapsed": true
   },
   "outputs": [],
   "source": [
    "import seaborn as sns; sns.set(color_codes=True)"
   ]
  },
  {
   "cell_type": "code",
   "execution_count": 79,
   "metadata": {
    "collapsed": true
   },
   "outputs": [],
   "source": [
    "x = np.array(qualities)"
   ]
  },
  {
   "cell_type": "code",
   "execution_count": 80,
   "metadata": {
    "collapsed": false
   },
   "outputs": [
    {
     "data": {
      "image/png": "[encoded data removed]",
      "text/plain": [
       "<matplotlib.figure.Figure at 0x113264438>"
      ]
     },
     "metadata": {},
     "output_type": "display_data"
    }
   ],
   "source": [
    "import matplotlib.pyplot as plt\n",
    "\n",
    "sns.set()\n",
    "plt.figure(figsize=(15, 6))\n",
    "plt.plot(qualities.index.values, qualities)\n",
    "plt.ylabel('Accuracy in %')\n",
    "plt.xlabel('Iteration #')\n",
    "plt.show()\n",
    "#ax = sns.tsplot(x)"
   ]
  },
  {
   "cell_type": "code",
   "execution_count": 81,
   "metadata": {
    "collapsed": true
   },
   "outputs": [],
   "source": [
    "def quality_test(Theta, X, Y):\n",
    "    predictions = sig(np.dot(X,Theta))\n",
    "    crisp = pd.Series(predictions).apply(crisp_predictor)\n",
    "    quality = accuracy(crisp, Y)\n",
    "    return quality\n",
    "\n",
    "        "
   ]
  },
  {
   "cell_type": "code",
   "execution_count": 124,
   "metadata": {
    "collapsed": false
   },
   "outputs": [
    {
     "data": {
      "text/plain": [
       "97.769516728624538"
      ]
     },
     "execution_count": 124,
     "metadata": {},
     "output_type": "execute_result"
    }
   ],
   "source": [
    "final_theta = predictions_by_iteration = gradient_descent(X_train, Y_train, alpha, max_iterations)[1]\n",
    "predictions = sig(np.dot(X_test,final_theta))\n",
    "crisp = pd.Series(predictions).apply(crisp_predictor)\n",
    "\n",
    "# Subtract predictions from the real values and count the 1's\n",
    "accuracy(crisp, Y_test.values)"
   ]
  },
  {
   "cell_type": "code",
   "execution_count": 97,
   "metadata": {
    "collapsed": false
   },
   "outputs": [
    {
     "data": {
      "text/plain": [
       "0    1\n",
       "1    0\n",
       "2    1\n",
       "3    0\n",
       "4    0\n",
       "dtype: int64"
      ]
     },
     "execution_count": 97,
     "metadata": {},
     "output_type": "execute_result"
    }
   ],
   "source": []
  },
  {
   "cell_type": "code",
   "execution_count": null,
   "metadata": {
    "collapsed": true
   },
   "outputs": [],
   "source": []
  }
 ],
 "metadata": {
  "anaconda-cloud": {},
  "kernelspec": {
   "display_name": "Python 3",
   "language": "python",
   "name": "python3"
  },
  "language_info": {
   "codemirror_mode": {
    "name": "ipython",
    "version": 3
   },
   "file_extension": ".py",
   "mimetype": "text/x-python",
   "name": "python",
   "nbconvert_exporter": "python",
   "pygments_lexer": "ipython3",
   "version": "3.6.0"
  }
 },
 "nbformat": 4,
 "nbformat_minor": 1
}
