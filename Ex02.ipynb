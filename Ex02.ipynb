{
 "cells": [
  {
   "cell_type": "code",
   "execution_count": 1,
   "metadata": {
    "collapsed": false
   },
   "outputs": [],
   "source": [
    "## Imports\n",
    "%matplotlib inline\n",
    "import pandas as pd\n",
    "import numpy as np\n",
    "import math\n",
    "import seaborn as sns; sns.set(color_codes=True)\n",
    "import matplotlib.pyplot as plt"
   ]
  },
  {
   "cell_type": "code",
   "execution_count": 2,
   "metadata": {
    "collapsed": false
   },
   "outputs": [],
   "source": [
    "## Read data from source\n",
    "file = 'data.xlsx'\n",
    "df = pd.read_excel(file, header=None)\n",
    "nr_rows = df.shape[0]\n",
    "nr_cols = df.shape[1]"
   ]
  },
  {
   "cell_type": "code",
   "execution_count": 3,
   "metadata": {
    "collapsed": false
   },
   "outputs": [],
   "source": [
    "## Convert Y feature to number\n",
    "def numberize(value): \n",
    "    return 1 if value == 'M' else 0\n",
    "\n",
    "df[0] = df[0].apply(lambda x: numberize(x))\n",
    "\n",
    "    \n",
    "## Normalize data\n",
    "def norm(vector):\n",
    "    min = np.amin(vector)\n",
    "    max = np.amax(vector)\n",
    "    return (vector - min) / (min - max )\n",
    "\n",
    "for i in range(nr_cols):\n",
    "    df[:][i] = norm(df[:][i])    "
   ]
  },
  {
   "cell_type": "code",
   "execution_count": 4,
   "metadata": {
    "collapsed": false
   },
   "outputs": [],
   "source": [
    "## Split X and Y\n",
    "X = df.ix[:,1:]\n",
    "Y = df.ix[:,0]\n"
   ]
  },
  {
   "cell_type": "code",
   "execution_count": 5,
   "metadata": {
    "collapsed": false
   },
   "outputs": [
    {
     "data": {
      "text/html": [
       "<div>\n",
       "<table border=\"1\" class=\"dataframe\">\n",
       "  <thead>\n",
       "    <tr style=\"text-align: right;\">\n",
       "      <th></th>\n",
       "      <th>0</th>\n",
       "      <th>1</th>\n",
       "      <th>2</th>\n",
       "      <th>3</th>\n",
       "      <th>4</th>\n",
       "      <th>5</th>\n",
       "      <th>6</th>\n",
       "      <th>7</th>\n",
       "      <th>8</th>\n",
       "      <th>9</th>\n",
       "      <th>...</th>\n",
       "      <th>21</th>\n",
       "      <th>22</th>\n",
       "      <th>23</th>\n",
       "      <th>24</th>\n",
       "      <th>25</th>\n",
       "      <th>26</th>\n",
       "      <th>27</th>\n",
       "      <th>28</th>\n",
       "      <th>29</th>\n",
       "      <th>30</th>\n",
       "    </tr>\n",
       "  </thead>\n",
       "  <tbody>\n",
       "    <tr>\n",
       "      <th>0</th>\n",
       "      <td>1</td>\n",
       "      <td>-0.521037</td>\n",
       "      <td>-0.022658</td>\n",
       "      <td>-0.545989</td>\n",
       "      <td>-0.363733</td>\n",
       "      <td>-0.593753</td>\n",
       "      <td>-0.792037</td>\n",
       "      <td>-0.703140</td>\n",
       "      <td>-0.731113</td>\n",
       "      <td>-0.686364</td>\n",
       "      <td>...</td>\n",
       "      <td>-0.620776</td>\n",
       "      <td>-0.141525</td>\n",
       "      <td>-0.668310</td>\n",
       "      <td>-0.450698</td>\n",
       "      <td>-0.601136</td>\n",
       "      <td>-0.619292</td>\n",
       "      <td>-0.568610</td>\n",
       "      <td>-0.912027</td>\n",
       "      <td>-0.598462</td>\n",
       "      <td>-0.418864</td>\n",
       "    </tr>\n",
       "    <tr>\n",
       "      <th>1</th>\n",
       "      <td>1</td>\n",
       "      <td>-0.643144</td>\n",
       "      <td>-0.272574</td>\n",
       "      <td>-0.615783</td>\n",
       "      <td>-0.501591</td>\n",
       "      <td>-0.289880</td>\n",
       "      <td>-0.181768</td>\n",
       "      <td>-0.203608</td>\n",
       "      <td>-0.348757</td>\n",
       "      <td>-0.379798</td>\n",
       "      <td>...</td>\n",
       "      <td>-0.606901</td>\n",
       "      <td>-0.303571</td>\n",
       "      <td>-0.539818</td>\n",
       "      <td>-0.435214</td>\n",
       "      <td>-0.347553</td>\n",
       "      <td>-0.154563</td>\n",
       "      <td>-0.192971</td>\n",
       "      <td>-0.639175</td>\n",
       "      <td>-0.233590</td>\n",
       "      <td>-0.222878</td>\n",
       "    </tr>\n",
       "    <tr>\n",
       "      <th>2</th>\n",
       "      <td>1</td>\n",
       "      <td>-0.601496</td>\n",
       "      <td>-0.390260</td>\n",
       "      <td>-0.595743</td>\n",
       "      <td>-0.449417</td>\n",
       "      <td>-0.514309</td>\n",
       "      <td>-0.431017</td>\n",
       "      <td>-0.462512</td>\n",
       "      <td>-0.635686</td>\n",
       "      <td>-0.509596</td>\n",
       "      <td>...</td>\n",
       "      <td>-0.556386</td>\n",
       "      <td>-0.360075</td>\n",
       "      <td>-0.508442</td>\n",
       "      <td>-0.374508</td>\n",
       "      <td>-0.483590</td>\n",
       "      <td>-0.385375</td>\n",
       "      <td>-0.359744</td>\n",
       "      <td>-0.835052</td>\n",
       "      <td>-0.403706</td>\n",
       "      <td>-0.213433</td>\n",
       "    </tr>\n",
       "    <tr>\n",
       "      <th>3</th>\n",
       "      <td>1</td>\n",
       "      <td>-0.210090</td>\n",
       "      <td>-0.360839</td>\n",
       "      <td>-0.233501</td>\n",
       "      <td>-0.102906</td>\n",
       "      <td>-0.811321</td>\n",
       "      <td>-0.811361</td>\n",
       "      <td>-0.565604</td>\n",
       "      <td>-0.522863</td>\n",
       "      <td>-0.776263</td>\n",
       "      <td>...</td>\n",
       "      <td>-0.248310</td>\n",
       "      <td>-0.385928</td>\n",
       "      <td>-0.241347</td>\n",
       "      <td>-0.094008</td>\n",
       "      <td>-0.915472</td>\n",
       "      <td>-0.814012</td>\n",
       "      <td>-0.548642</td>\n",
       "      <td>-0.884880</td>\n",
       "      <td>-1.000000</td>\n",
       "      <td>-0.773711</td>\n",
       "    </tr>\n",
       "    <tr>\n",
       "      <th>4</th>\n",
       "      <td>1</td>\n",
       "      <td>-0.629893</td>\n",
       "      <td>-0.156578</td>\n",
       "      <td>-0.630986</td>\n",
       "      <td>-0.489290</td>\n",
       "      <td>-0.430351</td>\n",
       "      <td>-0.347893</td>\n",
       "      <td>-0.463918</td>\n",
       "      <td>-0.518390</td>\n",
       "      <td>-0.378283</td>\n",
       "      <td>...</td>\n",
       "      <td>-0.519744</td>\n",
       "      <td>-0.123934</td>\n",
       "      <td>-0.506948</td>\n",
       "      <td>-0.341575</td>\n",
       "      <td>-0.437364</td>\n",
       "      <td>-0.172415</td>\n",
       "      <td>-0.319489</td>\n",
       "      <td>-0.558419</td>\n",
       "      <td>-0.157500</td>\n",
       "      <td>-0.142595</td>\n",
       "    </tr>\n",
       "  </tbody>\n",
       "</table>\n",
       "<p>5 rows × 31 columns</p>\n",
       "</div>"
      ],
      "text/plain": [
       "   0         1         2         3         4         5         6         7   \\\n",
       "0   1 -0.521037 -0.022658 -0.545989 -0.363733 -0.593753 -0.792037 -0.703140   \n",
       "1   1 -0.643144 -0.272574 -0.615783 -0.501591 -0.289880 -0.181768 -0.203608   \n",
       "2   1 -0.601496 -0.390260 -0.595743 -0.449417 -0.514309 -0.431017 -0.462512   \n",
       "3   1 -0.210090 -0.360839 -0.233501 -0.102906 -0.811321 -0.811361 -0.565604   \n",
       "4   1 -0.629893 -0.156578 -0.630986 -0.489290 -0.430351 -0.347893 -0.463918   \n",
       "\n",
       "         8         9     ...           21        22        23        24  \\\n",
       "0 -0.731113 -0.686364    ...    -0.620776 -0.141525 -0.668310 -0.450698   \n",
       "1 -0.348757 -0.379798    ...    -0.606901 -0.303571 -0.539818 -0.435214   \n",
       "2 -0.635686 -0.509596    ...    -0.556386 -0.360075 -0.508442 -0.374508   \n",
       "3 -0.522863 -0.776263    ...    -0.248310 -0.385928 -0.241347 -0.094008   \n",
       "4 -0.518390 -0.378283    ...    -0.519744 -0.123934 -0.506948 -0.341575   \n",
       "\n",
       "         25        26        27        28        29        30  \n",
       "0 -0.601136 -0.619292 -0.568610 -0.912027 -0.598462 -0.418864  \n",
       "1 -0.347553 -0.154563 -0.192971 -0.639175 -0.233590 -0.222878  \n",
       "2 -0.483590 -0.385375 -0.359744 -0.835052 -0.403706 -0.213433  \n",
       "3 -0.915472 -0.814012 -0.548642 -0.884880 -1.000000 -0.773711  \n",
       "4 -0.437364 -0.172415 -0.319489 -0.558419 -0.157500 -0.142595  \n",
       "\n",
       "[5 rows x 31 columns]"
      ]
     },
     "execution_count": 5,
     "metadata": {},
     "output_type": "execute_result"
    }
   ],
   "source": [
    "## Add '1' - Feature\n",
    "ones = np.ones(nr_rows, dtype=np.int)\n",
    "X.insert(0, '', ones)\n",
    "X.columns = range(df.shape[1])\n",
    "X.head()\n"
   ]
  },
  {
   "cell_type": "code",
   "execution_count": 6,
   "metadata": {
    "collapsed": true
   },
   "outputs": [],
   "source": [
    "## Prepare training set and testing datasets"
   ]
  },
  {
   "cell_type": "code",
   "execution_count": 7,
   "metadata": {
    "collapsed": false
   },
   "outputs": [],
   "source": [
    "X_train = X.head(300)\n",
    "Y_train = Y.head(300)"
   ]
  },
  {
   "cell_type": "code",
   "execution_count": 8,
   "metadata": {
    "collapsed": false
   },
   "outputs": [],
   "source": [
    "nr_test_rows = nr_rows - 300\n",
    "X_test = X.tail(nr_test_rows)\n",
    "Y_test = Y.tail(nr_test_rows)"
   ]
  },
  {
   "cell_type": "code",
   "execution_count": 9,
   "metadata": {
    "collapsed": false
   },
   "outputs": [],
   "source": [
    "## Define helper methods\n",
    "\n",
    "def sig(z):\n",
    "    return 1 / (1 + math.e ** (-1*z))\n",
    "\n",
    "def gradient_descent(X, Y, alpha=0.1, max_iterations=100):\n",
    "    predictions = []\n",
    "    Theta = np.zeros(X.shape[1], dtype=np.int)  # Starting Theta\n",
    "    \n",
    "    while (max_iterations > 0):\n",
    "        prediction = sig(np.dot(X,Theta))\n",
    "        Theta = Theta + (alpha * (Y - prediction) * prediction * (1 - prediction)).dot(X)\n",
    "        predictions.append(prediction)\n",
    "        max_iterations -= 1\n",
    "    \n",
    "    return [predictions, Theta]\n",
    "\n",
    "# Transform p values to 1's and 0's\n",
    "crisp_predictor = lambda x: 1 if x >= 0.5 else 0 \n",
    "\n",
    "def accuracy(crisp, Y): # Subtract predictions from the real values and count the 1's\n",
    "    difference = pd.Series(crisp - Y)\n",
    "    correct_predictions = (difference == 0).sum()\n",
    "    total_predictions = crisp.shape[0]\n",
    "\n",
    "    return (correct_predictions / total_predictions * 100)\n",
    "\n",
    "def quality_test(Theta, X, Y):\n",
    "    predictions = sig(np.dot(X,Theta))\n",
    "    crisp = pd.Series(predictions).apply(crisp_predictor)\n",
    "    quality = accuracy(crisp, Y)\n",
    "    return quality"
   ]
  },
  {
   "cell_type": "code",
   "execution_count": 10,
   "metadata": {
    "collapsed": false
   },
   "outputs": [],
   "source": [
    "## Run predictions by iterations of the algorithm\n",
    "def quality_by_iteration(alpha, max_iterations):\n",
    "    predictions_by_iteration = gradient_descent(X_train, Y_train, alpha, max_iterations)[0]\n",
    "    \n",
    "    \n",
    "    qualities = []\n",
    "    for prediction in predictions_by_iteration:\n",
    "        crisp = pd.Series(prediction).apply(crisp_predictor)\n",
    "        quality = accuracy(crisp, Y_train)\n",
    "        qualities.append(quality)\n",
    "\n",
    "    return qualities    "
   ]
  },
  {
   "cell_type": "code",
   "execution_count": 11,
   "metadata": {
    "collapsed": false
   },
   "outputs": [
    {
     "data": {
      "image/png": "[encoded data removed]",
      "text/plain": [
       "<matplotlib.figure.Figure at 0x10d7209b0>"
      ]
     },
     "metadata": {},
     "output_type": "display_data"
    }
   ],
   "source": [
    "# MAIN \n",
    "\n",
    "## Train the algorithm\n",
    "\n",
    "alpha = 0.03\n",
    "max_iterations = 1000\n",
    "qualities = pd.Series(quality_by_iteration(alpha, max_iterations))   \n",
    "\n",
    "## Plot the graph\n",
    "sns.set()\n",
    "plt.figure(figsize=(15, 6))\n",
    "plt.plot(qualities.index.values, qualities)\n",
    "plt.ylabel('Accuracy in %')\n",
    "plt.xlabel('Iteration #')\n",
    "plt.show()"
   ]
  },
  {
   "cell_type": "code",
   "execution_count": 12,
   "metadata": {
    "collapsed": false
   },
   "outputs": [
    {
     "name": "stdout",
     "output_type": "stream",
     "text": [
      "The prediction accuracy for the test data is: 97.77%.\n"
     ]
    }
   ],
   "source": [
    "final_theta = predictions_by_iteration = gradient_descent(X_train, Y_train, alpha, max_iterations)[1]\n",
    "predictions = sig(np.dot(X_test,final_theta))\n",
    "crisp = pd.Series(predictions).apply(crisp_predictor)\n",
    "\n",
    "\n",
    "test_accuracy = accuracy(crisp, Y_test.values)\n",
    "print(f\"The prediction accuracy for the test data is: {'%.2f' % test_accuracy}%.\")"
   ]
  }
 ],
 "metadata": {
  "anaconda-cloud": {},
  "kernelspec": {
   "display_name": "Python 3",
   "language": "python",
   "name": "python3"
  },
  "language_info": {
   "codemirror_mode": {
    "name": "ipython",
    "version": 3
   },
   "file_extension": ".py",
   "mimetype": "text/x-python",
   "name": "python",
   "nbconvert_exporter": "python",
   "pygments_lexer": "ipython3",
   "version": "3.6.0"
  }
 },
 "nbformat": 4,
 "nbformat_minor": 1
}
